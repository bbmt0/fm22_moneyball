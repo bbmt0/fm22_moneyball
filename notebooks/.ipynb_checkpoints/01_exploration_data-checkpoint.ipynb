{
 "cells": [
  {
   "cell_type": "code",
   "execution_count": null,
   "metadata": {},
   "outputs": [],
   "source": [
    "import pandas as pd\n",
    "import matplotlib.pyplot as plt\n",
    "\n",
    "# Charger les données nettoyées\n",
    "df = pd.read_csv('../data/processed/cleaned_data.csv')\n",
    "\n",
    "# Filtrer les joueurs qui évoluent en France\n",
    "french_leagues = [\"Ligue 2 BKT\", \"Championnat National\", \"Ligues régionales\"]\n",
    "df_france = df[df['Division'].isin(french_leagues)]\n",
    "\n",
    "# Calculer l'overperformance des buteurs\n",
    "df_france['Overperformance_Gls_xG'] = df_france['Goals'] - df_france['xG']\n",
    "\n",
    "# Sélectionner les 15 premières overperformances\n",
    "top_overperformers_france = df_france.nlargest(15, 'Overperformance_Gls_xG')\n",
    "\n",
    "# Retirer les salaires supérieurs à 50000\n",
    "top_overperformers_france = top_overperformers_france[top_overperformers_france['Wage'] <= 50000]\n",
    "\n",
    "# Créer le scatter plot avec overperformance en X et salaire en Y\n",
    "plt.figure(figsize=(14, 10))\n",
    "\n",
    "# Calculer la taille des points en fonction de l'âge (plus jeune = plus gros)\n",
    "age_factor = (top_overperformers_france['Age'].max() - top_overperformers_france['Age']) + 10\n",
    "plt.scatter(top_overperformers_france['Overperformance_Gls_xG'], top_overperformers_france['Wage'], \n",
    "            s=age_factor * 10, color='blue', alpha=0.6)\n",
    "\n",
    "# Ajouter les noms des joueurs, leur championnat et leur âge dans les points\n",
    "for i in range(len(top_overperformers_france)):\n",
    "    player_name = top_overperformers_france.iloc[i]['Name']\n",
    "    league_name = top_overperformers_france.iloc[i]['Division']\n",
    "    age = top_overperformers_france.iloc[i]['Age']\n",
    "    x = top_overperformers_france.iloc[i]['Overperformance_Gls_xG']\n",
    "    y = top_overperformers_france.iloc[i]['Wage']\n",
    "    \n",
    "    # Annoter l'âge au centre du cercle\n",
    "    plt.annotate(f\"{age}\", (x, y), \n",
    "                 textcoords=\"offset points\", xytext=(0, 0), ha='center', va='center', \n",
    "                 fontsize=9, color='white', weight='bold')\n",
    "\n",
    "    # Annoter le nom et le championnat légèrement au-dessus du cercle\n",
    "    plt.annotate(f\"{player_name} ({league_name})\", (x, y),\n",
    "                 textcoords=\"offset points\", xytext=(0, 10), ha='center', fontsize=8)\n",
    "\n",
    "plt.xlabel('Overperformance (Gls - xG)')\n",
    "plt.ylabel('Salary (Wage)')\n",
    "plt.title('Top 15 Overperforming Players in France: Overperformance vs Salary (Sized by Age)')\n",
    "plt.grid(True)\n",
    "plt.show()\n"
   ]
  }
 ],
 "metadata": {
  "language_info": {
   "name": "python"
  }
 },
 "nbformat": 4,
 "nbformat_minor": 2
}
