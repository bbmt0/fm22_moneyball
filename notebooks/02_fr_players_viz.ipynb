{
 "cells": [
  {
   "cell_type": "markdown",
   "id": "c2952b05",
   "metadata": {},
   "source": [
    "# Imports"
   ]
  },
  {
   "cell_type": "code",
   "execution_count": null,
   "id": "894030af",
   "metadata": {
    "vscode": {
     "languageId": "plaintext"
    }
   },
   "outputs": [],
   "source": [
    "import matplotlib.pyplot as plt\n",
    "import seaborn as sns\n",
    "df = pd.read_csv('../data/processed/cleaned_data.csv')"
   ]
  },
  {
   "cell_type": "markdown",
   "id": "56bef6a8",
   "metadata": {},
   "source": [
    "# Display the top 15 xG overperformers in Ligue 2 or less with 'low' salary"
   ]
  },
  {
   "cell_type": "code",
   "execution_count": null,
   "id": "263549f1",
   "metadata": {
    "vscode": {
     "languageId": "plaintext"
    }
   },
   "outputs": [],
   "source": [
    "# Retrieve players in french leagues\n",
    "french_leagues = [\"Ligue 2 BKT\", \"Championnat National\", \"Ligues régionales\"]\n",
    "df_france = df[df['Division'].isin(french_leagues)]\n",
    "\n",
    "# Calculate players xG overperformance\n",
    "df_france['Overperformance_Gls_xG'] = df_france['Goals'] - df_france['xG']\n",
    "\n",
    "# Select the 15 top overperformers\n",
    "top_overperformers_france = df_france.nlargest(15, 'Overperformance_Gls_xG')\n",
    "\n",
    "# Filter out the high salaries\n",
    "top_overperformers_france = top_overperformers_france[top_overperformers_france['Wage'] <= 50000]\n",
    "\n",
    "# Create a overperform x salary scatterplot\n",
    "plt.figure(figsize=(14, 10))\n",
    "\n",
    "# Calculate point thickness by age \n",
    "age_factor = (top_overperformers_france['Age'].max() - top_overperformers_france['Age']) + 10\n",
    "plt.scatter(top_overperformers_france['Overperformance_Gls_xG'], top_overperformers_france['Wage'], \n",
    "            s=age_factor * 10, color='blue', alpha=0.6)\n",
    "\n",
    "# Add players infos \n",
    "for i in range(len(top_overperformers_france)):\n",
    "    player_name = top_overperformers_france.iloc[i]['Name']\n",
    "    league_name = top_overperformers_france.iloc[i]['Division']\n",
    "    age = top_overperformers_france.iloc[i]['Age']\n",
    "    x = top_overperformers_france.iloc[i]['Overperformance_Gls_xG']\n",
    "    y = top_overperformers_france.iloc[i]['Wage']\n",
    "    \n",
    "    plt.annotate(f\"{age}\", (x, y), \n",
    "                 textcoords=\"offset points\", xytext=(0, 0), ha='center', va='center', \n",
    "                 fontsize=9, color='white', weight='bold')\n",
    "\n",
    "  \n",
    "    plt.annotate(f\"{player_name} ({league_name})\", (x, y),\n",
    "                 textcoords=\"offset points\", xytext=(0, 10), ha='center', fontsize=8)\n",
    "\n",
    "plt.xlabel('Overperformance (Gls - xG)')\n",
    "plt.ylabel('Salary (Wage)')\n",
    "plt.title('Top 15 Overperforming Players in France: Overperformance vs Salary (Sized by Age)')\n",
    "plt.grid(True)\n",
    "plt.show()\n"
   ]
  },
  {
   "cell_type": "markdown",
   "id": "6075f897",
   "metadata": {},
   "source": [
    "# French players that overperformed their xG"
   ]
  },
  {
   "cell_type": "code",
   "execution_count": null,
   "id": "68744e95",
   "metadata": {
    "vscode": {
     "languageId": "plaintext"
    }
   },
   "outputs": [],
   "source": [
    "# Retrieve french players\n",
    "df_filtered_xG_realistic_fra = df_filtered_xG_realistic[df_filtered_xG_realistic['Nationality'] == 'FRA']\n",
    "\n",
    "# Get the overperformers\n",
    "df_filtered_xG_realistic_fra['Overperf_Gls_xG'] = df_filtered_xG_realistic_fra['Goals'] - df_filtered_xG_realistic_fra['xG']\n",
    "top_overperformers_realistic_fra = df_filtered_xG_realistic_fra.nlargest(15, 'Overperf_Gls_xG')\n",
    "\n",
    "print(top_overperformers_realistic_fra[['Name', 'Club', 'Division', 'Goals', 'Overperf_Gls_xG', 'Wage']])\n",
    "\n",
    "# Show it with a graph\n",
    "plt.figure(figsize=(12, 8))\n",
    "sns.scatterplot(x='Overperf_Gls_xG', y='Wage', hue='Position_Categorized', data=top_overperformers_realistic_fra, palette='viridis')\n",
    "\n",
    "for i in range(len(top_overperformers_realistic_fra)):\n",
    "    player_name = top_overperformers_realistic_fra.iloc[i]['Name']\n",
    "    overperformance = top_overperformers_realistic_fra.iloc[i]['Overperf_Gls_xG']\n",
    "    wage = top_overperformers_realistic_fra.iloc[i]['Wage']\n",
    "    \n",
    "    plt.annotate(\n",
    "        player_name, \n",
    "        (overperformance, wage),\n",
    "        textcoords=\"offset points\",\n",
    "        xytext=(0,5), \n",
    "        ha='center',\n",
    "        fontsize=9,\n",
    "        color='black'\n",
    "    )\n",
    "\n",
    "plt.title('Top Overperforming French Players with Salary < 50,000: Overperformance vs Salary')\n",
    "plt.xlabel('Overperformance (Goals - xG)')\n",
    "plt.ylabel('Salary (Wage)')\n",
    "plt.legend(title='Position')\n",
    "plt.grid(True)\n",
    "plt.tight_layout()\n",
    "plt.show()\n",
    "\n",
    "\n"
   ]
  }
 ],
 "metadata": {
  "language_info": {
   "name": "python"
  }
 },
 "nbformat": 4,
 "nbformat_minor": 5
}
