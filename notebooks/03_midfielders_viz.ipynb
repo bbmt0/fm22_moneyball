{
 "cells": [
  {
   "cell_type": "markdown",
   "id": "020edea6",
   "metadata": {},
   "source": [
    "# Imports"
   ]
  },
  {
   "cell_type": "code",
   "execution_count": null,
   "id": "c939fac6",
   "metadata": {
    "vscode": {
     "languageId": "plaintext"
    }
   },
   "outputs": [],
   "source": [
    "import matplotlib.pyplot as plt\n",
    "import seaborn as sns\n",
    "df = pd.read_csv('../data/processed/cleaned_data.csv')"
   ]
  },
  {
   "cell_type": "markdown",
   "id": "5c6703c3",
   "metadata": {},
   "source": [
    "# Unique position counter"
   ]
  },
  {
   "cell_type": "code",
   "execution_count": null,
   "id": "e34bdf2d",
   "metadata": {
    "vscode": {
     "languageId": "plaintext"
    }
   },
   "outputs": [],
   "source": [
    "def categorize_midfielders(position):\n",
    "    position = position.upper()\n",
    "    \n",
    "    if 'DM' in position:\n",
    "        return 'Milieu Défensif'\n",
    "    elif 'AM (C)' in position:\n",
    "        return 'Milieu Offensif Central'\n",
    "    elif 'M (C)' in position:\n",
    "        return 'Milieu Central'\n",
    "    else:\n",
    "        return 'Autre'\n",
    "df['Position_Categorized'] = df['Position'].apply(categorize_midfielders)\n",
    "\n",
    "position_categorized_counts = df['Position_Categorized'].value_counts()\n",
    "print(position_categorized_counts)\n"
   ]
  },
  {
   "cell_type": "markdown",
   "id": "06793aa8",
   "metadata": {},
   "source": [
    "# Midfieldiers salaries by unique position"
   ]
  },
  {
   "cell_type": "code",
   "execution_count": null,
   "id": "538aa2ba",
   "metadata": {
    "vscode": {
     "languageId": "plaintext"
    }
   },
   "outputs": [],
   "source": [
    "plt.figure(figsize=(12, 8))\n",
    "sns.boxplot(x='Position_Categorized', y='Wage', data=df)\n",
    "plt.xticks(rotation=45)\n",
    "plt.title('Répartition des Salaires par Catégorie de Milieu de Terrain')\n",
    "plt.show()"
   ]
  }
 ],
 "metadata": {
  "language_info": {
   "name": "python"
  }
 },
 "nbformat": 4,
 "nbformat_minor": 5
}
