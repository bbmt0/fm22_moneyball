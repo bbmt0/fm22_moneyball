{
 "cells": [
  {
   "cell_type": "markdown",
   "id": "e207acf5",
   "metadata": {},
   "source": [
    "# Real case: Underevaluated center back for a 3rd division french club \n",
    "\n",
    "---\n",
    "\n",
    "### Objective\n",
    "Identify an **undervalued center-back** who excels in aerial duels and defensive reliability, but remains off the radar\n",
    "\n",
    "---\n",
    "\n",
    "### Focus\n",
    "\n",
    "We will follow this major criteria:\n",
    "\n",
    "- The player salary should be less than 70% of median player in National \n",
    "- Search for **aerial** dominant players\n",
    "- Low error leading to a goal conceded is a strong bonus\n",
    "- High % successful pass is a bonus\n",
    "- Young player is a bonus\n",
    "- No age restriction, should be a starting player candidate "
   ]
  },
  {
   "cell_type": "code",
   "execution_count": 94,
   "id": "a5585512",
   "metadata": {},
   "outputs": [],
   "source": [
    "# Imports\n",
    "import pandas as pd\n",
    "import matplotlib.pyplot as plt\n",
    "import seaborn as sns\n",
    "\n",
    "\n",
    "# Charger les données nettoyées\n",
    "df = pd.read_csv('../data/processed/cleaned_data.csv')"
   ]
  },
  {
   "cell_type": "markdown",
   "id": "97e7bc3c",
   "metadata": {},
   "source": [
    "# Filter on the salary limit fixed by the club"
   ]
  },
  {
   "cell_type": "code",
   "execution_count": 95,
   "id": "1fe0bbfe",
   "metadata": {},
   "outputs": [
    {
     "name": "stdout",
     "output_type": "stream",
     "text": [
      "Club limit:  568.75\n",
      "Number of players in the dataframe:  183\n"
     ]
    }
   ],
   "source": [
    "# Get National players\n",
    "national_players = df[df['Division']=='Championnat National']\n",
    "\n",
    "# Calculate the median salary for a player in National\n",
    "median_salary_national = national_players['Wage'].median()\n",
    "\n",
    "# Club limit: 70% of median salary\n",
    "club_limit = 0.7*median_salary_national\n",
    "print('Club limit: ', club_limit)\n",
    "\n",
    "# Filter on the salary limit\n",
    "national_players_filtered = national_players[national_players['Wage'] <= club_limit]\n",
    "\n",
    "# Create the dataframe with the players that are under the club limit, from every division\n",
    "df_wage_filtered = df[(df['Wage'] <= club_limit) & (df['Position'].str.contains('D \\\\(C\\\\)'))]\n",
    "\n",
    "# Display the number of players in the dataframe\n",
    "print('Number of players in the dataframe: ', len(df_wage_filtered))\n"
   ]
  },
  {
   "cell_type": "markdown",
   "id": "ddf34459",
   "metadata": {},
   "source": [
    "# Find out aerial dominant players"
   ]
  },
  {
   "cell_type": "code",
   "execution_count": 96,
   "id": "f90d7992",
   "metadata": {},
   "outputs": [
    {
     "name": "stdout",
     "output_type": "stream",
     "text": [
      "Number of players in both top 50 lists: 45\n",
      "Number of players in both top 40 lists: 36\n"
     ]
    }
   ],
   "source": [
    "\n",
    "# Get the top 50 players with the highet aerial duels win rate\n",
    "top_50_aerial_duels_win_rate = df_wage_filtered.sort_values(by='Headers Won/90', ascending=False).head(50)\n",
    "\n",
    "# Get the top 50 players with the most aerial duels per 90\n",
    "top_50_aerial_duels_per_90 = df_wage_filtered.sort_values(by='Aerial Duels/90', ascending=False).head(50)\n",
    "\n",
    "# Find players that are in the both top lists\n",
    "common_players = top_50_aerial_duels_win_rate[top_50_aerial_duels_win_rate['ID'].isin(top_50_aerial_duels_per_90['ID'])]\n",
    "\n",
    "# Display the resulting dataframe\n",
    "print('Number of players in both top 50 lists:', len(common_players))\n",
    "common_players.head()\n",
    "\n",
    "# Redo it by selecting the top 40 players, not 50\n",
    "top_40_aerial_duels_win_rate = df_wage_filtered.sort_values(by='Headers Won/90', ascending=False).head(40)\n",
    "top_40_aerial_duels_per_90 = df_wage_filtered.sort_values(by='Aerial Duels/90', ascending=False).head(40)\n",
    "\n",
    "common_players_40 = top_40_aerial_duels_win_rate[top_40_aerial_duels_win_rate['ID'].isin(top_40_aerial_duels_per_90['ID'])]\n",
    "\n",
    "# Display the resulting dataframe\n",
    "print('Number of players in both top 40 lists:', len(common_players_40))\n",
    "\n"
   ]
  },
  {
   "cell_type": "markdown",
   "id": "b60eacea",
   "metadata": {},
   "source": [
    "# Focus on low error leading to a goal players "
   ]
  },
  {
   "cell_type": "code",
   "execution_count": 97,
   "id": "5ae5b303",
   "metadata": {},
   "outputs": [],
   "source": [
    "# Calculate the median "
   ]
  }
 ],
 "metadata": {
  "kernelspec": {
   "display_name": "base",
   "language": "python",
   "name": "python3"
  },
  "language_info": {
   "codemirror_mode": {
    "name": "ipython",
    "version": 3
   },
   "file_extension": ".py",
   "mimetype": "text/x-python",
   "name": "python",
   "nbconvert_exporter": "python",
   "pygments_lexer": "ipython3",
   "version": "3.10.13"
  }
 },
 "nbformat": 4,
 "nbformat_minor": 5
}
